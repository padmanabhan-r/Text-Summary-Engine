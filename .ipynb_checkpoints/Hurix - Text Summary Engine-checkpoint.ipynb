{
 "cells": [
  {
   "cell_type": "markdown",
   "id": "3003ae1a",
   "metadata": {},
   "source": [
    "### Import Necessary Libraries"
   ]
  },
  {
   "cell_type": "code",
   "execution_count": 1,
   "id": "9fd7bd90",
   "metadata": {},
   "outputs": [],
   "source": [
    "import PyPDF2 as pdf\n",
    "import wordninja\n",
    "import nltk\n",
    "from nltk.tokenize import RegexpTokenizer\n",
    "from nltk.stem import WordNetLemmatizer, PorterStemmer\n",
    "from nltk.corpus import stopwords\n",
    "import re\n",
    "from summarizer import Summarizer,TransformerSummarizer\n",
    "import warnings\n",
    "warnings.filterwarnings(\"ignore\")\n",
    "\n",
    "lemmatizer = WordNetLemmatizer()\n",
    "stemmer = PorterStemmer()"
   ]
  },
  {
   "cell_type": "markdown",
   "id": "6d38638a",
   "metadata": {},
   "source": [
    "### Defining Helper Functions"
   ]
  },
  {
   "cell_type": "code",
   "execution_count": 2,
   "id": "8b83c630",
   "metadata": {},
   "outputs": [],
   "source": [
    "def preprocess(sentence):\n",
    "    sentence=str(sentence)\n",
    "    sentence = sentence.lower()\n",
    "    sentence=sentence.replace('{html}',\"\") \n",
    "    cleanr = re.compile('<.*?>')\n",
    "    cleantext = re.sub(cleanr, '', sentence)\n",
    "    rem_url=re.sub(r'http\\S+', '',cleantext)\n",
    "    rem_num = re.sub('[0-9]+', '', rem_url)\n",
    "    tokenizer = RegexpTokenizer(r'\\w+')\n",
    "    filtered_words = tokenizer.tokenize(rem_num)  \n",
    "    #filtered_words = [w for w in tokens if len(w) > 2 if not w in stopwords.words('english')]\n",
    "    stem_words=[stemmer.stem(w) for w in filtered_words]\n",
    "    lemma_words=[lemmatizer.lemmatize(w) for w in stem_words]\n",
    "    return \" \".join(filtered_words)"
   ]
  },
  {
   "cell_type": "markdown",
   "id": "6cb8017e",
   "metadata": {},
   "source": [
    "### Read and Process PDF Input File"
   ]
  },
  {
   "cell_type": "code",
   "execution_count": 3,
   "id": "a3ddceec",
   "metadata": {},
   "outputs": [],
   "source": [
    "file = open('jess106.pdf', 'rb')\n",
    "pdf_reader = pdf.PdfFileReader(file)\n",
    "num_pages = pdf_reader.getNumPages()"
   ]
  },
  {
   "cell_type": "code",
   "execution_count": 4,
   "id": "86da7687",
   "metadata": {},
   "outputs": [],
   "source": [
    "corpus = ''\n",
    "for i in range(num_pages):\n",
    "    corpus = corpus + '\\n' + pdf_reader.getPage(i).extract_text()"
   ]
  },
  {
   "cell_type": "code",
   "execution_count": 5,
   "id": "70ea8e25",
   "metadata": {},
   "outputs": [],
   "source": [
    "corp_sentences = corpus.split('.')"
   ]
  },
  {
   "cell_type": "code",
   "execution_count": 6,
   "id": "a5d58aa3",
   "metadata": {},
   "outputs": [],
   "source": [
    "corp_sentences = [preprocess(sentence) for sentence in corp_sentences]\n",
    "# corp_sentences = [' '.join(wordninja.split(sentence)) for sentence in corp_sentences]\n",
    "corp_sentences = [sentence for sentence in corp_sentences if len(sentence) > 1]\n",
    "corpus_processed = '. '.join(corp_sentences)"
   ]
  },
  {
   "cell_type": "markdown",
   "id": "723cf75c",
   "metadata": {},
   "source": [
    "### Summarizing Using BERT Model"
   ]
  },
  {
   "cell_type": "code",
   "execution_count": 7,
   "id": "fb082c4d",
   "metadata": {},
   "outputs": [
    {
     "name": "stderr",
     "output_type": "stream",
     "text": [
      "Some weights of the model checkpoint at bert-large-uncased were not used when initializing BertModel: ['cls.predictions.decoder.weight', 'cls.predictions.bias', 'cls.seq_relationship.weight', 'cls.seq_relationship.bias', 'cls.predictions.transform.LayerNorm.bias', 'cls.predictions.transform.dense.bias', 'cls.predictions.transform.dense.weight', 'cls.predictions.transform.LayerNorm.weight']\n",
      "- This IS expected if you are initializing BertModel from the checkpoint of a model trained on another task or with another architecture (e.g. initializing a BertForSequenceClassification model from a BertForPreTraining model).\n",
      "- This IS NOT expected if you are initializing BertModel from the checkpoint of a model that you expect to be exactly identical (initializing a BertForSequenceClassification model from a BertForSequenceClassification model).\n"
     ]
    },
    {
     "name": "stdout",
     "output_type": "stream",
     "text": [
      "production of goods in large quantities after processing from raw materials to more valuable products is called manufacturing. the workers employed in steel factories car breweries textile industries bakeries etc. i ndia s prosperity lies in increasing and diversifying its manufacturing industries as quickly as possible. a griculture and industry are not exclusive of each other. they purchased shoes and clothes for him. contribution of industry to national economy o ver the last two decades the share of manufacturing sector has stagnated at per cent of g d p œ out of a total of per cent for the industry which includes per cent for mining quarrying electricity and gas. this is much lower in comparison to some east a sian economies where it is to per cent. c onsequently manufacturing activity tends to locate at the most appropriate place where all the factors of industrial location are either available or can be arranged at lower cost. a fter an industrial activity starts urbanisation follows. thus industrialisation and urbanisation go hand in hand. g radually a large industrial agglomeration takes place. c onsequently there emerged certain pockets of industrially developed urban centres surrounded by a huge agricultural rural hinterland. ł private sector industries owned and operated by individuals or a group of individuals œtisco bajaj auto ltd. ł joint sector industries which are jointly run by the state and individuals or a group of individuals. they pool in the resources and share the profits or losses proportionately. industries are based on agricultural raw materials. v alue addition in the textile industry in the early years the cotton textile industry was concentrated in the cotton growing belt of maharashtra and g ujarat. w eaving is done by handlo om powerlo om and in mills. a s a result many of our spinners export cotton yarn while apparel garment manufactures have to import fabric. c hallenges faced by the industry include stif f competition in the international market from synthetic substitutes and from other competitors like bangladesh brazil philippines egypt and thailand. h owever the internal demand has been on the increase due to the government policy of mandatory use of jute packaging. the main markets are u. c anada g hana saudi a rabia u. and australia. jute textiles i ndia is the largest producer of raw jute and jute goods and stands at second place as an exporter after bangladesh. if it is sold as a trouser it fetches rs per kg. processes of manufacture of steel iron and steel industry the iron and steel industry is the basic industry since all the other industries š heavy medium and light depend on it for their machinery. steel_sector year production in million tonnes œ. mini steel plants are smaller have electric furnaces use steel scrap and sponge iron. some quantities of manganese are also required to harden the steel. it is the largest producer of sponge iron. kg per annum against the world average of. an integrated steel plant is large handles everything in one complex œ from putting together raw material to steel making rolling and shaping. however the overall pr oduction of steel is sufficient to meet our domestic demand. aluminium smelting aluminium smelting is the second most important metallurgical industry in india. it is light r esistant to corrosion a good conductor of heat mall e able and becomes str ong when it is mixed with other metals. it is used to manufacture aircraft utensils and wires. all the manufactured saucepans are sent to a warehouse. a which raw material is likely to be most expensive to transport and why b which raw material is likely to be the cheapest to transport and why. organic chemical plants are located near oil refineries or petrochemical plants. a fter i ndependence the industry expanded. t rucks buses cars motor cycles sco oters three wheelers and multi utility vehicles are manufactured in india at various centres. other important centres for electronic goods are mumbai delhi hyderabad pune c hennai kolkata lucknow and c oimbatore. the major industry concentration is at b engaluru n oida m umbai c hennai hyderabad and pune. a major impact of this industry has been on employment generation. t oxic gas leaks can be very hazardous with long term ef fects. how can the industrial pollution of fresh water be reduced some suggestions are i minimising use water for processing by reusing and recycling it in two or more successive stages ii harvesting of rainwater to meet water requirements iii tr eating hot water and ef fluents befor e releasing them in rivers and ponds. this involves screening grinding flocculation and sedimentation. smoke can be reduced by using oil or gas instead of coal in factories. d reducing environmental pollution through ash pond management ash water recycling system and liquid waste management. e ecological monitoring reviews and on line database management for all its power stations. w rite the answers of the following questions in words. the number of letters in each word are hinted in brackets. i what are the raw materials they use ii what are the other inputs in the process of manufacturing that involve transportation cost iii a re these factories following environmental norms c ontemporary i ndia œ ii a ctivity solve the puzzle by following your search horizontally and vertically to find the hidden answers.\n"
     ]
    }
   ],
   "source": [
    "bert_model = Summarizer()\n",
    "bert_summary = ''.join(bert_model(corpus_processed, min_length=40, max_length=500))\n",
    "print(bert_summary)"
   ]
  },
  {
   "cell_type": "markdown",
   "id": "f5b2a0b5",
   "metadata": {},
   "source": [
    "### Summarizing Using GPT2 Model"
   ]
  },
  {
   "cell_type": "code",
   "execution_count": 8,
   "id": "adf478a1",
   "metadata": {},
   "outputs": [
    {
     "name": "stdout",
     "output_type": "stream",
     "text": [
      "production of goods in large quantities after processing from raw materials to more valuable products is called manufacturing. do you know that paper is manufactured from wood sugar from sugarcane iron and steel from iron ore and aluminium from bauxite do you also know that some types of clothes are manufactured from yarn which itself is an industrial product people employed in the secondary activities manufacture the primary materials into finished goods. some people are employed in providing services. i t was also aimed at bringing down regional disparities by establishing industries in tribal and backward areas. thus development and competitiveness of on the occassion of diwali harish went to a market with his parents. do you have some ideas about these industries c ontemporary i ndia œ ii manufacturing industry has not only assisted agriculturists in increasing their production but also made the production processes very ef ficient. the trend of growth rate in manufacturing over the last decade has been around per cent per annum. the desired growth rate over the next decade is per cent. c onsequently manufacturing activity tends to locate at the most appropriate place where all the factors of industrial location are either available or can be arranged at lower cost. in the pre independence period most manufacturing units were located in places from the point of view of overseas trade such as m umbai kolkata c hennai etc. government policies and specialised labour also influence the location of industry. if we classify the various industries based on a particular criterion then we would be able to understand their manufacturing better. industries may be classified as follows on the basis of source of raw materials used ł agro based cotton woollen jute silk textile rubber and sugar tea coffee edible oil. according to their main role ł basic or key industries are those which supply their products as raw materials to manufacture other goods e. iron and steel and copper smelting aluminum smelting. on the basis of ownership ł public sector owned and operated by government agencies œ bhel sail etc. ł joint sector industries which are jointly run by the state and individuals or a group of individuals. they pool in the resources and share the profits or losses proportionately. industries are based on agricultural raw materials. c ontemporary i ndia œ ii textile industry the textile industry occupies unique position in the indian economy because it contributes significantly to industrial production employment generation and foreign exchange earnings. a vailability of raw cotton market transport including accessible port facilities labour moist climate etc. the industry by creating demands supports many other industries such as chemicals and dyes packaging materials and engineering works. ł the two world wars were fought in europe india was a british colony. this mismatch is a major drawback for the industry. the raw material used in this industry is bulky and in haulage its sucrose content reduces. the mills are located in uttar pradesh bihar maharashtra k arnataka t amil n adu a ndhra pradesh g ujarat p unjab haryana and madhya pradesh. major challenges include the seasonal nature of the industry old and inef ficient methods of production transport delay in reaching cane to factories and the need to maximise the use of baggase. kolkata as a large urban centre provides banking insurance and port facilities for export of jute goods. if it is sold as a trouser it fetches rs per kg. steel_sector year production in million tonnes œ. in the s china and india produced almost the same quantity of steel. crude steel production in india and china source world steel association website www. liberalisation and foreign dir ect investment have given a boost to the industry with the ef forts of private entrepreneurs. it is used to manufacture aircraft utensils and wires. make a list of the products you are aware of. a fter the g re en revolution the industry expanded to several other parts of the country. a fter i ndependence the industry expanded. the major industry concentration is at b engaluru n oida m umbai c hennai hyderabad and pune. the polluting industries also include thermal power plants. a ir borne particulate materials contain both solid and liquid particles like dust sprays mist and smoke. water pollution is caused by organic and inorganic industrial wastes and af fluents discharged into rivers. the main culprits in this regard are paper pulp chemical textile and dyeing petroleum refineries tanneries and electroplating industries that let out dyes detergents acids salts and heavy metals like lead and mercury pesticides fertilisers synthetic chemicals with carbon plastics and rubber etc. fly ash phospo gypsum and iron and steel slags are the major solid wastes in india. thermal pollution of water occurs when hot water from factories and thermal plants is drained into rivers and ponds before cooling. control of environmental degradation e very litre of waste water discharged by our industry pollutes eight times the quantity of m anufacturing i ndustries india some software technology parks c ontemporary i ndia œ ii fr eshwater. t r eatment of industrial ef fluents can be done in three phases a primary treatment by mechanical means. particulate matter in the air can be reduced by fitting smoke stacks to factories with electrostatic precipitators fabric filters scrubbers and inertial separators. this has been possible through a optimum utilisation of equipment adopting latest techniques and upgrading existing equipment. b minimising waste generation by maximising ash utilisation. a steel c a luminium smelting b electronic d i nformation t echnology. a nswer the following briefly in not more than words. g g g p v a r a n a s i u o j i p g x k m q w v k s u g a r c a n e e n o t t o n o z v o p t r a u e l u b h i l a i u t k o c r a q n t r l n e i r o n s t e e l s j e n a n o e p i t l r y g a n u j d r a g d t a n t a r p o a p u e p y a s n a e n j d i y s k s m h v l i a j h s k g. t extiles sugar vegetable oil and plantation industries deriving raw materials from agriculture are called. i ron ore coking coal and limestone are the chief raw materials of this industry.\n"
     ]
    }
   ],
   "source": [
    "GPT2_model = TransformerSummarizer(transformer_type=\"GPT2\", transformer_model_key=\"gpt2-medium\")\n",
    "gpt_summary = ''.join(GPT2_model(corpus_processed, min_length=40, max_length=500))\n",
    "print(gpt_summary)"
   ]
  },
  {
   "cell_type": "markdown",
   "id": "18abee3b",
   "metadata": {},
   "source": [
    "### Next Steps\n",
    "0. More Text Pre-processing.\n",
    "1. Implement XLNet, T5 Model\n",
    "2. Implement Pegasus XSUM Model using PyTorch - https://huggingface.co/google/pegasus-xsum\n",
    "4. Implement research paper - (BRIO: Bringing Order to Abstractive Summarization) https://arxiv.org/abs/2203.16804v1"
   ]
  },
  {
   "cell_type": "code",
   "execution_count": null,
   "id": "0e29d5f3",
   "metadata": {},
   "outputs": [],
   "source": []
  }
 ],
 "metadata": {
  "kernelspec": {
   "display_name": "Python 3 (ipykernel)",
   "language": "python",
   "name": "python3"
  },
  "language_info": {
   "codemirror_mode": {
    "name": "ipython",
    "version": 3
   },
   "file_extension": ".py",
   "mimetype": "text/x-python",
   "name": "python",
   "nbconvert_exporter": "python",
   "pygments_lexer": "ipython3",
   "version": "3.9.7"
  }
 },
 "nbformat": 4,
 "nbformat_minor": 5
}
